{
 "cells": [
  {
   "cell_type": "code",
   "execution_count": 1,
   "metadata": {},
   "outputs": [],
   "source": [
    "import pandas as pd\n",
    "import numpy as np\n",
    "from bs4 import BeautifulSoup as soup\n",
    "from urllib.request import Request, urlopen\n",
    "from sklearn import preprocessing\n",
    "from sklearn.model_selection import train_test_split\n",
    "import re\n",
    "import time"
   ]
  },
  {
   "cell_type": "code",
   "execution_count": 2,
   "metadata": {},
   "outputs": [
    {
     "name": "stdout",
     "output_type": "stream",
     "text": [
      "['Abilene Chr' 'American Univ' 'Appalachian St' 'Ark Little Rock'\n",
      " 'Col Charleston' 'Connecticut' 'Detroit' 'ETSU' 'FL Atlantic'\n",
      " 'FL Gulf Coast' 'Gardner Webb' 'Hawaii' 'James Madison' 'Kennesaw' 'Kent'\n",
      " 'LIU Brooklyn' 'Loyola-Chicago' 'MS Valley St' 'MTSU' 'Massachusetts'\n",
      " 'McNeese St' 'Miami FL' 'North Florida' 'North Texas' 'Northern Iowa'\n",
      " 'Northwestern LA' 'SUNY Albany' 'South Florida' 'Southern Univ'\n",
      " \"St Joseph's PA\" 'St Louis' \"St Mary's CA\" \"St Peter's\" 'TAM C. Christi'\n",
      " 'TX Southern' 'UC Santa Barbara' 'UNC Asheville' 'UNC Greensboro'\n",
      " 'UNC Wilmington' 'WI Green Bay' 'WI Milwaukee' 'WKU']\n"
     ]
    }
   ],
   "source": [
    "clean_hist = pd.read_csv('data/Bracket_Historical_Data.csv')\n",
    "x = pd.read_csv('data/2012-2025_MBB_Historical-Data.csv')\n",
    "\n",
    "unknown_teams=[]\n",
    "for year in x['Year'].unique():\n",
    "    temp_clean_hist=pd.DataFrame()\n",
    "    temp_features_df=pd.DataFrame()\n",
    "    team_list =[]\n",
    "    temp_clean_hist = clean_hist[clean_hist['Year']==year]\n",
    "    temp_features_df = x[x['Year']==year]\n",
    "    team_list = temp_clean_hist[['Team 1', 'Team 2']].to_numpy().flatten()\n",
    "    team_list = np.unique(team_list)\n",
    "    for item in team_list:\n",
    "        if item not in temp_features_df['Team'].values:\n",
    "            unknown_teams.append(item)\n",
    "unknown_teams=np.unique(unknown_teams)\n",
    "print(unknown_teams)"
   ]
  },
  {
   "cell_type": "code",
   "execution_count": 3,
   "metadata": {},
   "outputs": [],
   "source": [
    "conv_dict = {\"Abilene Chr\":\"Abl Christian\",\n",
    "            \"American Univ\":\"American\",\n",
    "            \"Appalachian St\":\"App State\",\n",
    "            \"Ark Little Rock\":\"AR Lit Rock\",\n",
    "            \"Boise St\": \"Boise State\",\n",
    "            \"CS Bakersfield\":\"CS Bakersfld\",\n",
    "            \"Col Charleston\":\"Col Charlestn\",\n",
    "            \"E Washington\": \"E Washingtn\",\n",
    "            \"ETSU\":\"E Tenn St\",\n",
    "            \"FL Gulf Coast\":\"Fla Gulf Cst\",\n",
    "            \"G Washington\":\"Geo Wshgtn\",\n",
    "            \"Gardner Webb\":\"Gard-Webb\",\n",
    "            \"Georgia Tech\":\"GA Tech\",\n",
    "            \"Grand Canyon\": \"Grd Canyon\",\n",
    "            \"Iowa St\":\"Iowa State\",\n",
    "            \"Jacksonville St\":\"Jacksonville\",\n",
    "            \"James Madison\": \"James Mad\",\n",
    "            \"Kent\":\"Kent State\",\n",
    "            \"LIU Brooklyn\": \"LIU-Brooklyn\",\n",
    "            \"Long Beach St\":\"Lg Beach St\",\n",
    "            \"Louisiana\":\"LA Lafayette\",\n",
    "            \"Loyola MD\": \"Loyola-MD\",\n",
    "            \"Loyola-Chicago\":\"Loyola-Chi\",\n",
    "            \"MS Valley St\":\"Miss Val St\",\n",
    "            \"MTSU\":\"Middle Tenn\",\n",
    "            \"Massachusetts\":\"U Mass\",\n",
    "            \"Miami FL\":\"Miami (FL)\",\n",
    "            \"Mississippi St\":\"Miss State\",\n",
    "            \"Mt St Mary's\":\"Mt St Marys\",\n",
    "            \"New Mexico St\":\"N Mex State\",\n",
    "            \"North Carolina\":\"N Carolina\",\n",
    "            \"North Florida\":\"N Florida\",\n",
    "            \"Northeastern\": \"Northeastrn\",\n",
    "            \"Northern Iowa\":\"N Iowa\",\n",
    "            \"Northwestern LA\":\"NW State\",\n",
    "            \"Ohio St\":\"Ohio State\",\n",
    "            \"Penn\":\"U Penn\",\n",
    "            \"Robert Morris\":\"Rob Morris\",\n",
    "            \"SF Austin\":\"Ste F Austin\",\n",
    "            \"SMU\":\"S Methodist\",\n",
    "            \"SUNY Albany\":\"Albany\",\n",
    "            \"South Carolina\":\"S Carolina\",\n",
    "            \"South Florida\":\"S Florida\",\n",
    "            \"Southern Miss\": \"S Mississippi\",\n",
    "            \"Southern Univ\":\"Southern\",\n",
    "            \"St Bonaventure\":\"St Bonavent\",\n",
    "            \"St John's\":\"St Johns\",\n",
    "            \"St Joseph's PA\":\"St Josephs\",\n",
    "            \"St Louis\":\"Saint Louis\",\n",
    "            \"St Mary's CA\":\"St Marys\",\n",
    "            \"TCU\":\"TX Christian\",\n",
    "            \"UC Santa Barbara\":\"UCSB\",\n",
    "            \"UCF\":\"Central FL\",\n",
    "            \"UMBC\": \"Maryland BC\",\n",
    "            \"UNC Asheville\": \"NC-Asheville\",\n",
    "            \"UNC Greensboro\":\"NC-Grnsboro\",\n",
    "            \"UNC Wilmington\": \"NC-Wilmgton\",\n",
    "            \"Utah St\":\"Utah State\",\n",
    "            \"Virginia Tech\":\"VA Tech\",\n",
    "            \"WI Green Bay\":\"WI-Grn Bay\",\n",
    "            \"WI Milwaukee\":\"WI-Milwkee\",\n",
    "            \"WKU\": \"W Kentucky\",\n",
    "            \"Weber St\":\"Weber State\",\n",
    "            \"West Virginia\":\"W Virginia\",\n",
    "            \"Wright St\":\"Wright State\"\n",
    "            }"
   ]
  },
  {
   "cell_type": "code",
   "execution_count": 4,
   "metadata": {},
   "outputs": [
    {
     "name": "stdout",
     "output_type": "stream",
     "text": [
      "      Unnamed: 0       Team 1     Team 2       Winner  Year\n",
      "0              0     Arkansas       Iowa     Arkansas  1985\n",
      "1              1       Auburn     Purdue       Auburn  1985\n",
      "2              2   Georgetown     Lehigh   Georgetown  1985\n",
      "3              3  Illinois St        USC  Illinois St  1985\n",
      "4              4       Kansas       Ohio       Kansas  1985\n",
      "...          ...          ...        ...          ...   ...\n",
      "2513        2513     NC State       Duke     NC State  2024\n",
      "2514        2514       Purdue  Tennessee       Purdue  2024\n",
      "2515        2515  Connecticut    Alabama  Connecticut  2024\n",
      "2516        2516       Purdue   NC State       Purdue  2024\n",
      "2517        2517  Connecticut     Purdue  Connecticut  2024\n",
      "\n",
      "[2518 rows x 5 columns]\n"
     ]
    }
   ],
   "source": [
    "for key, val in conv_dict.items():\n",
    "    # print(key, val)\n",
    "    clean_hist['Team 1'] = np.where(clean_hist['Team 1']==key, val, clean_hist['Team 1'])\n",
    "    clean_hist['Team 2'] = np.where(clean_hist['Team 2']==key, val, clean_hist['Team 2'])\n",
    "    clean_hist['Winner'] = np.where(clean_hist['Winner']==key, val, clean_hist['Winner'])\n",
    "    # clean_hist.drop(columns=clean_hist.columns[0], axis=1, inplace=True)\n",
    "\n",
    "print(clean_hist)      \n",
    "    "
   ]
  },
  {
   "cell_type": "code",
   "execution_count": 5,
   "metadata": {},
   "outputs": [],
   "source": [
    "clean_hist.to_csv('data/Bracket_Historical_Data.csv')"
   ]
  }
 ],
 "metadata": {
  "kernelspec": {
   "display_name": "tf-gpu",
   "language": "python",
   "name": "python3"
  },
  "language_info": {
   "codemirror_mode": {
    "name": "ipython",
    "version": 3
   },
   "file_extension": ".py",
   "mimetype": "text/x-python",
   "name": "python",
   "nbconvert_exporter": "python",
   "pygments_lexer": "ipython3",
   "version": "3.10.2"
  },
  "orig_nbformat": 4
 },
 "nbformat": 4,
 "nbformat_minor": 2
}
