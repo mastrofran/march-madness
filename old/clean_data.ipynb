{
 "cells": [
  {
   "cell_type": "code",
   "execution_count": null,
   "metadata": {},
   "outputs": [],
   "source": [
    "import pandas as pd\n",
    "import numpy as np\n",
    "from bs4 import BeautifulSoup as soup\n",
    "from urllib.request import Request, urlopen\n",
    "from sklearn import preprocessing\n",
    "from sklearn.model_selection import train_test_split\n",
    "import re\n",
    "import time"
   ]
  },
  {
   "cell_type": "code",
   "execution_count": 2,
   "metadata": {},
   "outputs": [
    {
     "name": "stdout",
     "output_type": "stream",
     "text": [
      "['Abilene Chr' 'American Univ' 'Appalachian St' 'Ark Little Rock'\n",
      " 'Col Charleston' 'Connecticut' 'Detroit' 'ETSU' 'FL Atlantic'\n",
      " 'FL Gulf Coast' 'Gardner Webb' 'Hawaii' 'James Madison' 'Kennesaw' 'Kent'\n",
      " 'LIU Brooklyn' 'Loyola-Chicago' 'MS Valley St' 'MTSU' 'Massachusetts'\n",
      " 'McNeese St' 'Miami FL' 'North Florida' 'North Texas' 'Northern Iowa'\n",
      " 'Northwestern LA' 'SUNY Albany' 'South Florida' 'Southern Univ'\n",
      " \"St Joseph's PA\" 'St Louis' \"St Mary's CA\" \"St Peter's\" 'TAM C. Christi'\n",
      " 'TX Southern' 'UC Santa Barbara' 'UNC Asheville' 'UNC Greensboro'\n",
      " 'UNC Wilmington' 'WI Green Bay' 'WI Milwaukee' 'WKU']\n"
     ]
    }
   ],
   "source": [
    "clean_hist = pd.read_csv('data/Bracket_Historical_Data.csv')\n",
    "x = pd.read_csv('data/2012-2025_MBB_Historical-Data.csv')\n",
    "\n",
    "unknown_teams=[]\n",
    "for year in x['Year'].unique():\n",
    "    temp_clean_hist=pd.DataFrame()\n",
    "    temp_features_df=pd.DataFrame()\n",
    "    team_list =[]\n",
    "    temp_clean_hist = clean_hist[clean_hist['Year']==year]\n",
    "    temp_features_df = x[x['Year']==year]\n",
    "    team_list = temp_clean_hist[['Team 1', 'Team 2']].to_numpy().flatten()\n",
    "    team_list = np.unique(team_list)\n",
    "    for item in team_list:\n",
    "        if item not in temp_features_df['Team'].values:\n",
    "            unknown_teams.append(item)\n",
    "unknown_teams=np.unique(unknown_teams)\n",
    "print(unknown_teams)"
   ]
  },
  {
   "cell_type": "code",
   "execution_count": null,
   "metadata": {},
   "outputs": [],
   "source": [
    "conv_dict = {\"Abilene Chr\":\"Abl Christian\",\n",
    "            \"American Univ\":\"American\",\n",
    "            \"Appalachian St\":\"App State\",\n",
    "            \"Ark Little Rock\":\"Little Rock\",\n",
    "            \"Ark Pine Bluff\":\"AR-Pine Bluff\",\n",
    "            \"Boston Univ\": \"Boston U\",\n",
    "            \"Col Charleston\":\"Charleston\",\n",
    "            \"Central Conn\":\"C Connecticut\",\n",
    "            'Connecticut': 'UConn',\n",
    "            'Detroit': 'Detroit Mercy',\n",
    "            \"ETSU\":\"E Tennessee St\",\n",
    "            \"FL Atlantic\":\"Florida Atlantic\",\n",
    "            \"FL Gulf Coast\":\"FGCU\",\n",
    "            \"Gardner Webb\":\"Gardner-Webb\",\n",
    "            \"Hawaii\": \"Hawai'i\",\n",
    "            \"James Madison\": \"J Madison\",\n",
    "            \"Kennesaw\":\"Kennesaw St\",\n",
    "            \"Kent\":\"Kent St\",\n",
    "            \"LIU Brooklyn\": \"LIU-Brooklyn\",\n",
    "            \"Loyola-Chicago\":\"Loyola Chi\",\n",
    "            \"MS Valley St\":\"Miss Valley St\",\n",
    "            \"MTSU\":\"Middle Tenn\",\n",
    "            \"Massachusetts\":\"UMass\",\n",
    "            \"Miami FL\":\"Miami\",\n",
    "            \"McNeese St\":\"McNeese\",\n",
    "            \"North Florida\":\"N Florida\",\n",
    "            \"North Texas\": \"N Texas\",\n",
    "            \"Northern Iowa\":\"N Iowa\",\n",
    "            \"Northwestern LA\":\"NW State\",\n",
    "            \"Sam Houston St\": \"Sam Houston\",\n",
    "            \"SUNY Albany\":\"Albany\",\n",
    "            \"South Alabama\":\"S Alabama\",\n",
    "            \"South Florida\":\"S Florida\",\n",
    "            \"Southern Univ\":\"Southern\",\n",
    "            \"St Bonavent\":\"St Bonaventure\",\n",
    "            \"St Joseph's PA\":\"Saint Joseph's\",\n",
    "            \"St Louis\":\"Saint Louis\",\n",
    "            \"St Mary's CA\":\"Saint Mary's\",\n",
    "            \"St Peter's\":\"Saint Peter's\",\n",
    "            \"TAM C. Christi\": \"Texas A&M-CC\",\n",
    "            \"TX Southern\" :\"Texas So\",\n",
    "            \"UC Santa Barbara\":\"UCSB\",\n",
    "            \"UNC Asheville\": \"NC Asheville\",\n",
    "            \"UNC Greensboro\":\"NC Greensboro\",\n",
    "            \"UNC Wilmington\": \"NC Wilmington\",\n",
    "            \"UT San Antonio\": \"UTSA\",\n",
    "            \"WI Green Bay\":\"Green Bay\",\n",
    "            \"WI Milwaukee\":\"Milwaukee\",\n",
    "            \"WKU\": \"W Kentucky\",\n",
    "            }"
   ]
  },
  {
   "cell_type": "code",
   "execution_count": null,
   "metadata": {},
   "outputs": [],
   "source": [
    "len(conv_dict.keys())"
   ]
  },
  {
   "cell_type": "code",
   "execution_count": 4,
   "metadata": {},
   "outputs": [
    {
     "name": "stdout",
     "output_type": "stream",
     "text": [
      "      Unnamed: 0       Team 1     Team 2       Winner  Year\n",
      "0              0     Arkansas       Iowa     Arkansas  1985\n",
      "1              1       Auburn     Purdue       Auburn  1985\n",
      "2              2   Georgetown     Lehigh   Georgetown  1985\n",
      "3              3  Illinois St        USC  Illinois St  1985\n",
      "4              4       Kansas       Ohio       Kansas  1985\n",
      "...          ...          ...        ...          ...   ...\n",
      "2513        2513     NC State       Duke     NC State  2024\n",
      "2514        2514       Purdue  Tennessee       Purdue  2024\n",
      "2515        2515  Connecticut    Alabama  Connecticut  2024\n",
      "2516        2516       Purdue   NC State       Purdue  2024\n",
      "2517        2517  Connecticut     Purdue  Connecticut  2024\n",
      "\n",
      "[2518 rows x 5 columns]\n"
     ]
    }
   ],
   "source": [
    "for key, val in conv_dict.items():\n",
    "    # print(key, val)\n",
    "    clean_hist['Team 1'] = np.where(clean_hist['Team 1']==key, val, clean_hist['Team 1'])\n",
    "    clean_hist['Team 2'] = np.where(clean_hist['Team 2']==key, val, clean_hist['Team 2'])\n",
    "    clean_hist['Winner'] = np.where(clean_hist['Winner']==key, val, clean_hist['Winner'])\n",
    "    # clean_hist.drop(columns=clean_hist.columns[0], axis=1, inplace=True)\n",
    "\n",
    "print(clean_hist)      \n",
    "    "
   ]
  },
  {
   "cell_type": "code",
   "execution_count": 5,
   "metadata": {},
   "outputs": [],
   "source": [
    "clean_hist.to_csv('data/Bracket_Historical_Data.csv')"
   ]
  }
 ],
 "metadata": {
  "kernelspec": {
   "display_name": "tf-gpu",
   "language": "python",
   "name": "python3"
  },
  "language_info": {
   "codemirror_mode": {
    "name": "ipython",
    "version": 3
   },
   "file_extension": ".py",
   "mimetype": "text/x-python",
   "name": "python",
   "nbconvert_exporter": "python",
   "pygments_lexer": "ipython3",
   "version": "3.10.2"
  },
  "orig_nbformat": 4
 },
 "nbformat": 4,
 "nbformat_minor": 2
}
