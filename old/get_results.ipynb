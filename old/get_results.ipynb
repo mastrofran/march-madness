{
 "cells": [
  {
   "cell_type": "code",
   "execution_count": 3,
   "metadata": {},
   "outputs": [],
   "source": [
    "import pandas as pd\n",
    "import numpy as np\n",
    "from bs4 import BeautifulSoup as soup\n",
    "from urllib.request import Request, urlopen\n",
    "from sklearn import preprocessing\n",
    "from sklearn.model_selection import train_test_split\n",
    "import re\n",
    "import time"
   ]
  },
  {
   "cell_type": "code",
   "execution_count": 4,
   "metadata": {},
   "outputs": [
    {
     "name": "stdout",
     "output_type": "stream",
     "text": [
      "     TeamID      TeamName  FirstD1Season  LastD1Season\n",
      "0      1101   Abilene Chr           2014          2022\n",
      "1      1102     Air Force           1985          2022\n",
      "2      1103         Akron           1985          2022\n",
      "3      1104       Alabama           1985          2022\n",
      "4      1105   Alabama A&M           2000          2022\n",
      "..      ...           ...            ...           ...\n",
      "367    1468    Bellarmine           2021          2022\n",
      "368    1469      Dixie St           2021          2022\n",
      "369    1470   Tarleton St           2021          2022\n",
      "370    1471  UC San Diego           2021          2022\n",
      "371    1472  St Thomas MN           2022          2022\n",
      "\n",
      "[372 rows x 4 columns]\n"
     ]
    }
   ],
   "source": [
    "team_ids = pd.read_csv(\"../data/MTeams.csv\")\n",
    "print(team_ids)"
   ]
  },
  {
   "cell_type": "code",
   "execution_count": 5,
   "metadata": {},
   "outputs": [
    {
     "name": "stderr",
     "output_type": "stream",
     "text": [
      "/tmp/ipykernel_434071/27466486.py:10: SettingWithCopyWarning: \n",
      "A value is trying to be set on a copy of a slice from a DataFrame.\n",
      "Try using .loc[row_indexer,col_indexer] = value instead\n",
      "\n",
      "See the caveats in the documentation: https://pandas.pydata.org/pandas-docs/stable/user_guide/indexing.html#returning-a-view-versus-a-copy\n",
      "  clean_hist['WTeam'] = wteam_list\n",
      "/tmp/ipykernel_434071/27466486.py:11: SettingWithCopyWarning: \n",
      "A value is trying to be set on a copy of a slice from a DataFrame.\n",
      "Try using .loc[row_indexer,col_indexer] = value instead\n",
      "\n",
      "See the caveats in the documentation: https://pandas.pydata.org/pandas-docs/stable/user_guide/indexing.html#returning-a-view-versus-a-copy\n",
      "  clean_hist['LTeam'] = lteam_list\n"
     ]
    }
   ],
   "source": [
    "hist_results = pd.read_csv(\"../data/MNCAATourneyCompactResults.csv\")\n",
    "clean_hist = hist_results[['Season', 'WTeamID', 'LTeamID']]\n",
    "# print(clean_hist)\n",
    "\n",
    "wteam_list = []\n",
    "lteam_list=[]\n",
    "for index, row in clean_hist.iterrows():\n",
    "   wteam_list.append(team_ids.loc[team_ids['TeamID'] == row['WTeamID']]['TeamName'].values[0])\n",
    "   lteam_list.append(team_ids.loc[team_ids['TeamID'] == row['LTeamID']]['TeamName'].values[0])\n",
    "clean_hist['WTeam'] = wteam_list\n",
    "clean_hist['LTeam'] = lteam_list"
   ]
  },
  {
   "cell_type": "code",
   "execution_count": 6,
   "metadata": {},
   "outputs": [
    {
     "name": "stdout",
     "output_type": "stream",
     "text": [
      "           Team 1     Team 2       Winner  Year\n",
      "0        Arkansas       Iowa     Arkansas  1985\n",
      "1          Auburn     Purdue       Auburn  1985\n",
      "2      Georgetown     Lehigh   Georgetown  1985\n",
      "3     Illinois St        USC  Illinois St  1985\n",
      "4          Kansas       Ohio       Kansas  1985\n",
      "...           ...        ...          ...   ...\n",
      "2513     NC State       Duke     NC State  2024\n",
      "2514       Purdue  Tennessee       Purdue  2024\n",
      "2515  Connecticut    Alabama  Connecticut  2024\n",
      "2516       Purdue   NC State       Purdue  2024\n",
      "2517  Connecticut     Purdue  Connecticut  2024\n",
      "\n",
      "[2518 rows x 4 columns]\n"
     ]
    },
    {
     "name": "stderr",
     "output_type": "stream",
     "text": [
      "/tmp/ipykernel_434071/2383570028.py:2: SettingWithCopyWarning: \n",
      "A value is trying to be set on a copy of a slice from a DataFrame.\n",
      "Try using .loc[row_indexer,col_indexer] = value instead\n",
      "\n",
      "See the caveats in the documentation: https://pandas.pydata.org/pandas-docs/stable/user_guide/indexing.html#returning-a-view-versus-a-copy\n",
      "  clean_hist['Winner'] = clean_hist['WTeam']\n",
      "/tmp/ipykernel_434071/2383570028.py:3: SettingWithCopyWarning: \n",
      "A value is trying to be set on a copy of a slice from a DataFrame\n",
      "\n",
      "See the caveats in the documentation: https://pandas.pydata.org/pandas-docs/stable/user_guide/indexing.html#returning-a-view-versus-a-copy\n",
      "  clean_hist.rename(columns={'WTeam':'Team 1',\n"
     ]
    }
   ],
   "source": [
    "# clean_hist = clean_hist.drop(['WTeamID', 'LTeamID'], axis=1)\n",
    "clean_hist['Winner'] = clean_hist['WTeam']\n",
    "clean_hist.rename(columns={'WTeam':'Team 1',\n",
    "                                'LTeam':'Team 2',\n",
    "                                'Season':'Year'}, inplace=True)\n",
    "cols = ['Team 1', 'Team 2', 'Winner', 'Year']\n",
    "clean_hist = clean_hist[cols]\n",
    "print(clean_hist)"
   ]
  },
  {
   "cell_type": "code",
   "execution_count": 7,
   "metadata": {},
   "outputs": [],
   "source": [
    "clean_hist.to_csv(\"../data/Bracket_Historical_Data.csv\")"
   ]
  }
 ],
 "metadata": {
  "kernelspec": {
   "display_name": "march-madness-z0O2oA0A",
   "language": "python",
   "name": "python3"
  },
  "language_info": {
   "codemirror_mode": {
    "name": "ipython",
    "version": 3
   },
   "file_extension": ".py",
   "mimetype": "text/x-python",
   "name": "python",
   "nbconvert_exporter": "python",
   "pygments_lexer": "ipython3",
   "version": "3.10.12"
  },
  "orig_nbformat": 4
 },
 "nbformat": 4,
 "nbformat_minor": 2
}
