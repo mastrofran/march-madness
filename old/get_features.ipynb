{
 "cells": [
  {
   "cell_type": "code",
   "execution_count": 44,
   "metadata": {},
   "outputs": [],
   "source": [
    "import pandas as pd\n",
    "import numpy as np\n",
    "from bs4 import BeautifulSoup as soup\n",
    "from urllib.request import Request, urlopen\n",
    "from sklearn import preprocessing\n",
    "from sklearn.model_selection import train_test_split\n",
    "import re\n",
    "import time\n",
    "import asyncio"
   ]
  },
  {
   "cell_type": "code",
   "execution_count": 45,
   "metadata": {},
   "outputs": [
    {
     "name": "stdout",
     "output_type": "stream",
     "text": [
      "[2021, 2022, 2023, 2024, 2025]\n"
     ]
    }
   ],
   "source": [
    "START_YEAR = 2020\n",
    "END_YEAR=2025\n",
    "LOOKBACK_PERIOD = range(START_YEAR, END_YEAR+1)\n",
    "LOOKBACK_PERIOD=list(LOOKBACK_PERIOD)\n",
    "if 2020 in LOOKBACK_PERIOD:\n",
    "    LOOKBACK_PERIOD.remove(2020)\n",
    "print(LOOKBACK_PERIOD)"
   ]
  },
  {
   "cell_type": "code",
   "execution_count": 46,
   "metadata": {},
   "outputs": [],
   "source": [
    "base = \"https://www.teamrankings.com/ncaa-basketball/\"\n",
    "features = {\"Offensive Efficiency\":\"stat/offensive-efficiency\",\n",
    "#             \"Floor %\":\"stat/floor-percentage\", \n",
    "#             \"Shooting %\":\"stat/shooting-pct\",\n",
    "            \"Effective Field Goal %\":\"stat/effective-field-goal-pct\",\n",
    "            \"Three Point %\":\"stat/three-point-pct\",\n",
    "            \"Two Point %\":\"stat/two-point-pct\",\n",
    "            \"Free Throw %\":\"stat/free-throw-pct\",\n",
    "            \"FT Attempted per FG Attempted\": \"stat/fta-per-fga\",\n",
    "            \"Turnovers Per Possession\":\"stat/turnovers-per-possession\",\n",
    "            \"True Shooting %\":\"stat/true-shooting-percentage\",\n",
    "            \"Offensive Rebounding %\":\"stat/offensive-rebounding-pct\",\n",
    "            \"Defensive Rebounding %\":\"stat/defensive-rebounding-pct\",\n",
    "#             \"Total Rebounding %\":\"stat/total-rebounding-percentage\",\n",
    "            \"Block %\":\"stat/block-pct\", \n",
    "            \"Steal %\":\"stat/steal-pct\",\n",
    "#             \"Assist/Turnover Ratio\":\"stat/assist--per--turnover-ratio\",\n",
    "            \"Defensive Efficiency\":\"stat/defensive-efficiency\",\n",
    "#             \"Effective Possesion Ratio\":\"stat/effective-possession-ratio\",\n",
    "            \"Win %\":\"stat/win-pct-all-games\",\n",
    "            \"Win % Close Games\":\"stat/win-pct-close-games\",\n",
    "            \"Possessions Per Game\":\"stat/possessions-per-game\",\n",
    "            \"Last 5 Rating\":\"ranking/last-5-games-by-other\",\n",
    "            \"Strength of Schedule\":\"ranking/schedule-strength-by-other\" \n",
    "            }\n"
   ]
  },
  {
   "cell_type": "code",
   "execution_count": 47,
   "metadata": {},
   "outputs": [],
   "source": [
    "def remove_scores(row):\n",
    "    x = re.sub(\"\\((\\d+\\-\\d+)\\)\", \"\", row)\n",
    "    x = x.rstrip()\n",
    "    return x"
   ]
  },
  {
   "cell_type": "code",
   "execution_count": 48,
   "metadata": {},
   "outputs": [],
   "source": [
    "def normalize(df, range):\n",
    "    min_max_scaler=preprocessing.MinMaxScaler(feature_range=range)\n",
    "    df = min_max_scaler.fit_transform(df.values)\n",
    "    return df"
   ]
  },
  {
   "cell_type": "code",
   "execution_count": 49,
   "metadata": {},
   "outputs": [],
   "source": [
    "def get_stats(years):\n",
    "    full_data = pd.DataFrame()\n",
    "\n",
    "    for i in years:\n",
    "        print(\"Entering Year: \", i)\n",
    "        stats=pd.DataFrame()\n",
    "        suffix = \"?date={}-03-01\".format(i)\n",
    "        for key, value in features.items():\n",
    "            table=pd.DataFrame()\n",
    "            url = base+value+suffix\n",
    "            # print('Heading to url: ', url)\n",
    "            req = Request(url, headers={'User-Agent': 'Mozilla/5.0'})\n",
    "            webpage = urlopen(req).read()\n",
    "            html = soup(webpage, \"html.parser\")\n",
    "            table = pd.read_html(str(html))\n",
    "            table = table[0].iloc[:, 1:3]\n",
    "            table = table.set_axis([\"Team\", key], axis=1, inplace=False)\n",
    "            if table[key].dtype!='float64':\n",
    "                table[key] = table[key].replace('--', np.NaN)\n",
    "                table[key] = table[key].str.rstrip('%').astype(np.float64)\n",
    "            if key=='Last 5 Rating' or key=='Strength of Schedule':\n",
    "                table['Team'] = table['Team'].apply(remove_scores)\n",
    "            if key!='Team' or key!='Year':    \n",
    "                table[key] = normalize(table[[key]], range=(0, 1))\n",
    "                # print(table)\n",
    "                # table[key] = table[key]*table['Strength of Schedule']*table['Last 10 Rating']\n",
    "                # print(table)\n",
    "            if key=='Defensive Efficiency':\n",
    "                table[key]=table[key]*-1\n",
    "            # table=table.drop(['Last 10 Rating', 'Strength of Schedule'], axis=1)\n",
    "            if len(stats)==0:\n",
    "                stats = table\n",
    "            else:\n",
    "                # print(\"entered else statement\")\n",
    "                stats = stats.merge(table, how='inner', on='Team')\n",
    "        stats['Year'] = i\n",
    "        full_data = pd.concat([full_data, stats], ignore_index=True)\n",
    "    return full_data"
   ]
  },
  {
   "cell_type": "code",
   "execution_count": null,
   "metadata": {},
   "outputs": [
    {
     "name": "stdout",
     "output_type": "stream",
     "text": [
      "Entering Year:  2021\n"
     ]
    }
   ],
   "source": [
    "\n",
    "x = get_stats(LOOKBACK_PERIOD)\n",
    "\n",
    "# key_list = ['Year', 'Team']\n",
    "# drop_list = [w for w in x.columns if w not in key_list]\n",
    "# print(x[drop_list])\n",
    "# test = x[drop_list].multiply(x['Strength of Schedule'], axis=0).multiply(x['Last 10 Rating'], axis=0)\n",
    "# test[key_list] = x[key_list]\n",
    "# test = test.drop(['Strength of Schedule', 'Last 10 Rating'], axis=1)\n",
    "# first_column = test.pop('Team')\n",
    "  \n",
    "# insert column using insert(position,column_name,first_column) function\n",
    "# print(test)\n",
    "# test.insert(0, 'Team', first_column)\n",
    "# print(test)"
   ]
  },
  {
   "cell_type": "code",
   "execution_count": 43,
   "metadata": {},
   "outputs": [
    {
     "name": "stdout",
     "output_type": "stream",
     "text": [
      "                Team  Offensive Efficiency  Effective Field Goal %  \\\n",
      "0             Toledo              1.000000                0.893082   \n",
      "1            Gonzaga              0.966049                0.993711   \n",
      "2            Houston              0.910494                0.729560   \n",
      "3      Youngstown St              0.882716                0.842767   \n",
      "4       Oral Roberts              0.876543                0.886792   \n",
      "...              ...                   ...                     ...   \n",
      "1084     Maryland ES              0.296296                0.201149   \n",
      "1085     Tarleton St              0.272331                0.281609   \n",
      "1086      Chicago St              0.257081                0.166667   \n",
      "1087       Coppin St              0.200436                0.080460   \n",
      "1088  Miss Valley St              0.000000                0.000000   \n",
      "\n",
      "      Three Point %  Two Point %  Free Throw %  FT Attempted per FG Attempted  \\\n",
      "0          0.956522     0.730159      0.744292                       0.530405   \n",
      "1          0.746377     0.978836      0.406393                       0.503378   \n",
      "2          0.594203     0.730159      0.484018                       0.287162   \n",
      "3          0.775362     0.772487      0.762557                       0.354730   \n",
      "4          0.768116     0.841270      0.753425                       0.179054   \n",
      "...             ...          ...           ...                            ...   \n",
      "1084       0.184397     0.216080      0.271967                       0.544776   \n",
      "1085       0.439716     0.206030      0.606695                       0.761194   \n",
      "1086       0.226950     0.130653      0.447699                       0.220149   \n",
      "1087       0.085106     0.100503      0.351464                       0.597015   \n",
      "1088       0.014184     0.035176      0.305439                       0.343284   \n",
      "\n",
      "      Turnovers Per Possession  True Shooting %  Offensive Rebounding %  \\\n",
      "0                     0.055556         0.985348                0.529661   \n",
      "1                     0.148148         1.000000                0.614407   \n",
      "2                     0.157407         0.714286                1.000000   \n",
      "3                     0.222222         0.901099                0.601695   \n",
      "4                     0.018519         0.912088                0.296610   \n",
      "...                        ...              ...                     ...   \n",
      "1084                  0.552000         0.204142                0.372093   \n",
      "1085                  1.000000         0.384615                0.472868   \n",
      "1086                  0.456000         0.153846                0.244186   \n",
      "1087                  0.712000         0.121302                0.360465   \n",
      "1088                  0.952000         0.000000                0.240310   \n",
      "\n",
      "      Defensive Rebounding %   Block %   Steal %  Defensive Efficiency  \\\n",
      "0                   0.393064  0.308642  0.365591             -0.667712   \n",
      "1                   0.780347  0.370370  0.430108             -0.570533   \n",
      "2                   0.716763  0.901235  0.666667             -0.037618   \n",
      "3                   0.583815  0.283951  0.408602             -0.586207   \n",
      "4                   0.664740  0.765432  0.354839             -0.445141   \n",
      "...                      ...       ...       ...                   ...   \n",
      "1084                0.281915  0.104167  0.264368             -0.819767   \n",
      "1085                0.340426  0.447917  0.885057             -0.424419   \n",
      "1086                0.414894  0.385417  0.574713             -0.656977   \n",
      "1087                0.313830  0.041667  0.643678             -0.625000   \n",
      "1088                0.026596  0.041667  0.367816             -1.000000   \n",
      "\n",
      "         Win %  Win % Close Games  Possessions Per Game  Last 5 Rating  \\\n",
      "0     0.845291              1.000              0.703704       0.865672   \n",
      "1     0.884529              0.714              0.808642       0.944563   \n",
      "2     1.000000              0.667              0.333333       1.000000   \n",
      "3     0.767937              0.500              0.679012       0.543710   \n",
      "4     0.911435              1.000              0.697531       0.562900   \n",
      "...        ...                ...                   ...            ...   \n",
      "1084  0.005618              0.000              0.450617       0.235131   \n",
      "1085  0.344944              0.429              0.419753       0.443983   \n",
      "1086  0.105618              0.000              0.567901       0.163209   \n",
      "1087  0.135955              1.000              0.512346       0.298755   \n",
      "1088  0.000000              1.000              0.358025       0.000000   \n",
      "\n",
      "      Strength of Schedule  Year  \n",
      "0                 0.422907  2023  \n",
      "1                 0.845815  2023  \n",
      "2                 0.792952  2023  \n",
      "3                 0.281938  2023  \n",
      "4                 0.405286  2023  \n",
      "...                    ...   ...  \n",
      "1084              0.167742  2025  \n",
      "1085              0.390323  2025  \n",
      "1086              0.296774  2025  \n",
      "1087              0.270968  2025  \n",
      "1088              0.000000  2025  \n",
      "\n",
      "[1089 rows x 20 columns]\n"
     ]
    }
   ],
   "source": [
    "print(x)"
   ]
  },
  {
   "cell_type": "code",
   "execution_count": 19,
   "metadata": {},
   "outputs": [],
   "source": [
    "# norm_features = [\"Floor %\",\"Shooting %\", \"Effective Field Goal %\", \"Three Point %\", \"Two Point %\", \"Free Throw %\", \"True Shooting %\", \"Offensive Rebounding %\",\"Defensive Rebounding %\",\"Total Rebounding %\", \"Block %\"]\n",
    "\n",
    "# for item in norm_features:\n",
    "#     x[item] = x[item] / 100"
   ]
  },
  {
   "cell_type": "code",
   "execution_count": 20,
   "metadata": {},
   "outputs": [
    {
     "ename": "KeyError",
     "evalue": "'Offensive Efficiency'",
     "output_type": "error",
     "traceback": [
      "\u001b[0;31m---------------------------------------------------------------------------\u001b[0m",
      "\u001b[0;31mKeyError\u001b[0m                                  Traceback (most recent call last)",
      "\u001b[0;32m~/opt/miniconda3/envs/tf-gpu/lib/python3.10/site-packages/pandas/core/indexes/base.py\u001b[0m in \u001b[0;36mget_loc\u001b[0;34m(self, key, method, tolerance)\u001b[0m\n\u001b[1;32m   3620\u001b[0m             \u001b[0;32mtry\u001b[0m\u001b[0;34m:\u001b[0m\u001b[0;34m\u001b[0m\u001b[0;34m\u001b[0m\u001b[0m\n\u001b[0;32m-> 3621\u001b[0;31m                 \u001b[0;32mreturn\u001b[0m \u001b[0mself\u001b[0m\u001b[0;34m.\u001b[0m\u001b[0m_engine\u001b[0m\u001b[0;34m.\u001b[0m\u001b[0mget_loc\u001b[0m\u001b[0;34m(\u001b[0m\u001b[0mcasted_key\u001b[0m\u001b[0;34m)\u001b[0m\u001b[0;34m\u001b[0m\u001b[0;34m\u001b[0m\u001b[0m\n\u001b[0m\u001b[1;32m   3622\u001b[0m             \u001b[0;32mexcept\u001b[0m \u001b[0mKeyError\u001b[0m \u001b[0;32mas\u001b[0m \u001b[0merr\u001b[0m\u001b[0;34m:\u001b[0m\u001b[0;34m\u001b[0m\u001b[0;34m\u001b[0m\u001b[0m\n",
      "\u001b[0;32m~/opt/miniconda3/envs/tf-gpu/lib/python3.10/site-packages/pandas/_libs/index.pyx\u001b[0m in \u001b[0;36mpandas._libs.index.IndexEngine.get_loc\u001b[0;34m()\u001b[0m\n",
      "\u001b[0;32m~/opt/miniconda3/envs/tf-gpu/lib/python3.10/site-packages/pandas/_libs/index.pyx\u001b[0m in \u001b[0;36mpandas._libs.index.IndexEngine.get_loc\u001b[0;34m()\u001b[0m\n",
      "\u001b[0;32mpandas/_libs/hashtable_class_helper.pxi\u001b[0m in \u001b[0;36mpandas._libs.hashtable.PyObjectHashTable.get_item\u001b[0;34m()\u001b[0m\n",
      "\u001b[0;32mpandas/_libs/hashtable_class_helper.pxi\u001b[0m in \u001b[0;36mpandas._libs.hashtable.PyObjectHashTable.get_item\u001b[0;34m()\u001b[0m\n",
      "\u001b[0;31mKeyError\u001b[0m: 'Offensive Efficiency'",
      "\nThe above exception was the direct cause of the following exception:\n",
      "\u001b[0;31mKeyError\u001b[0m                                  Traceback (most recent call last)",
      "\u001b[0;32m/var/folders/f6/vt6ygq7j4ydbwfb99mfdjbnc0000gn/T/ipykernel_12596/807057253.py\u001b[0m in \u001b[0;36m<module>\u001b[0;34m\u001b[0m\n\u001b[0;32m----> 1\u001b[0;31m \u001b[0mx\u001b[0m\u001b[0;34m[\u001b[0m\u001b[0;34m\"Net Efficiency Margin\"\u001b[0m\u001b[0;34m]\u001b[0m \u001b[0;34m=\u001b[0m \u001b[0mx\u001b[0m\u001b[0;34m[\u001b[0m\u001b[0;34m\"Offensive Efficiency\"\u001b[0m\u001b[0;34m]\u001b[0m \u001b[0;34m-\u001b[0m \u001b[0mx\u001b[0m\u001b[0;34m[\u001b[0m\u001b[0;34m\"Defensive Efficiency\"\u001b[0m\u001b[0;34m]\u001b[0m\u001b[0;34m\u001b[0m\u001b[0;34m\u001b[0m\u001b[0m\n\u001b[0m",
      "\u001b[0;32m~/opt/miniconda3/envs/tf-gpu/lib/python3.10/site-packages/pandas/core/frame.py\u001b[0m in \u001b[0;36m__getitem__\u001b[0;34m(self, key)\u001b[0m\n\u001b[1;32m   3503\u001b[0m             \u001b[0;32mif\u001b[0m \u001b[0mself\u001b[0m\u001b[0;34m.\u001b[0m\u001b[0mcolumns\u001b[0m\u001b[0;34m.\u001b[0m\u001b[0mnlevels\u001b[0m \u001b[0;34m>\u001b[0m \u001b[0;36m1\u001b[0m\u001b[0;34m:\u001b[0m\u001b[0;34m\u001b[0m\u001b[0;34m\u001b[0m\u001b[0m\n\u001b[1;32m   3504\u001b[0m                 \u001b[0;32mreturn\u001b[0m \u001b[0mself\u001b[0m\u001b[0;34m.\u001b[0m\u001b[0m_getitem_multilevel\u001b[0m\u001b[0;34m(\u001b[0m\u001b[0mkey\u001b[0m\u001b[0;34m)\u001b[0m\u001b[0;34m\u001b[0m\u001b[0;34m\u001b[0m\u001b[0m\n\u001b[0;32m-> 3505\u001b[0;31m             \u001b[0mindexer\u001b[0m \u001b[0;34m=\u001b[0m \u001b[0mself\u001b[0m\u001b[0;34m.\u001b[0m\u001b[0mcolumns\u001b[0m\u001b[0;34m.\u001b[0m\u001b[0mget_loc\u001b[0m\u001b[0;34m(\u001b[0m\u001b[0mkey\u001b[0m\u001b[0;34m)\u001b[0m\u001b[0;34m\u001b[0m\u001b[0;34m\u001b[0m\u001b[0m\n\u001b[0m\u001b[1;32m   3506\u001b[0m             \u001b[0;32mif\u001b[0m \u001b[0mis_integer\u001b[0m\u001b[0;34m(\u001b[0m\u001b[0mindexer\u001b[0m\u001b[0;34m)\u001b[0m\u001b[0;34m:\u001b[0m\u001b[0;34m\u001b[0m\u001b[0;34m\u001b[0m\u001b[0m\n\u001b[1;32m   3507\u001b[0m                 \u001b[0mindexer\u001b[0m \u001b[0;34m=\u001b[0m \u001b[0;34m[\u001b[0m\u001b[0mindexer\u001b[0m\u001b[0;34m]\u001b[0m\u001b[0;34m\u001b[0m\u001b[0;34m\u001b[0m\u001b[0m\n",
      "\u001b[0;32m~/opt/miniconda3/envs/tf-gpu/lib/python3.10/site-packages/pandas/core/indexes/base.py\u001b[0m in \u001b[0;36mget_loc\u001b[0;34m(self, key, method, tolerance)\u001b[0m\n\u001b[1;32m   3621\u001b[0m                 \u001b[0;32mreturn\u001b[0m \u001b[0mself\u001b[0m\u001b[0;34m.\u001b[0m\u001b[0m_engine\u001b[0m\u001b[0;34m.\u001b[0m\u001b[0mget_loc\u001b[0m\u001b[0;34m(\u001b[0m\u001b[0mcasted_key\u001b[0m\u001b[0;34m)\u001b[0m\u001b[0;34m\u001b[0m\u001b[0;34m\u001b[0m\u001b[0m\n\u001b[1;32m   3622\u001b[0m             \u001b[0;32mexcept\u001b[0m \u001b[0mKeyError\u001b[0m \u001b[0;32mas\u001b[0m \u001b[0merr\u001b[0m\u001b[0;34m:\u001b[0m\u001b[0;34m\u001b[0m\u001b[0;34m\u001b[0m\u001b[0m\n\u001b[0;32m-> 3623\u001b[0;31m                 \u001b[0;32mraise\u001b[0m \u001b[0mKeyError\u001b[0m\u001b[0;34m(\u001b[0m\u001b[0mkey\u001b[0m\u001b[0;34m)\u001b[0m \u001b[0;32mfrom\u001b[0m \u001b[0merr\u001b[0m\u001b[0;34m\u001b[0m\u001b[0;34m\u001b[0m\u001b[0m\n\u001b[0m\u001b[1;32m   3624\u001b[0m             \u001b[0;32mexcept\u001b[0m \u001b[0mTypeError\u001b[0m\u001b[0;34m:\u001b[0m\u001b[0;34m\u001b[0m\u001b[0;34m\u001b[0m\u001b[0m\n\u001b[1;32m   3625\u001b[0m                 \u001b[0;31m# If we have a listlike key, _check_indexing_error will raise\u001b[0m\u001b[0;34m\u001b[0m\u001b[0;34m\u001b[0m\u001b[0m\n",
      "\u001b[0;31mKeyError\u001b[0m: 'Offensive Efficiency'"
     ]
    }
   ],
   "source": [
    "# x[\"Net Efficiency Margin\"] = x[\"Offensive Efficiency\"] - x[\"Defensive Efficiency\"]"
   ]
  },
  {
   "cell_type": "code",
   "execution_count": 21,
   "metadata": {},
   "outputs": [],
   "source": [
    "x.to_csv(\"data/{}-{}_MBB_Historical-Data.csv\".format(START_YEAR, END_YEAR))"
   ]
  },
  {
   "cell_type": "code",
   "execution_count": 22,
   "metadata": {},
   "outputs": [
    {
     "name": "stdout",
     "output_type": "stream",
     "text": [
      "                Team  Strength of Schedule  Year\n",
      "0        Michigan St              1.000000  2012\n",
      "1             Kansas              0.996183  2012\n",
      "2            Ohio St              0.980916  2012\n",
      "3          Wisconsin              0.958015  2012\n",
      "4            Indiana              0.954198  2012\n",
      "...              ...                   ...   ...\n",
      "4589     Maryland ES              0.167742  2025\n",
      "4590          Wagner              0.148387  2025\n",
      "4591     Alabama A&M              0.112903  2025\n",
      "4592   AR-Pine Bluff              0.109677  2025\n",
      "4593  Miss Valley St              0.000000  2025\n",
      "\n",
      "[4594 rows x 3 columns]\n"
     ]
    }
   ],
   "source": [
    "print(x)"
   ]
  },
  {
   "cell_type": "code",
   "execution_count": null,
   "metadata": {},
   "outputs": [
    {
     "name": "stdout",
     "output_type": "stream",
     "text": [
      "['Abilene Chr' 'American Univ' 'Appalachian St' 'Ark Little Rock'\n",
      " 'Col Charleston' 'Connecticut' 'Detroit' 'ETSU' 'FL Atlantic'\n",
      " 'FL Gulf Coast' 'Gardner Webb' 'Hawaii' 'James Madison' 'Kennesaw' 'Kent'\n",
      " 'LIU Brooklyn' 'Loyola-Chicago' 'MS Valley St' 'MTSU' 'Massachusetts'\n",
      " 'McNeese St' 'Miami FL' 'North Florida' 'North Texas' 'Northern Iowa'\n",
      " 'Northwestern LA' 'SUNY Albany' 'South Florida' 'Southern Univ'\n",
      " \"St Joseph's PA\" 'St Louis' \"St Mary's CA\" \"St Peter's\" 'TAM C. Christi'\n",
      " 'TX Southern' 'UC Santa Barbara' 'UNC Asheville' 'UNC Greensboro'\n",
      " 'UNC Wilmington' 'WI Green Bay' 'WI Milwaukee' 'WKU']\n"
     ]
    }
   ],
   "source": [
    "clean_hist = pd.read_csv('data/Bracket_Historical_Data.csv')\n",
    "x = pd.read_csv('data/2012-2025_MBB_Historical-Data.csv')\n",
    "\n",
    "unknown_teams=[]\n",
    "for year in x['Year'].unique():\n",
    "    temp_clean_hist=pd.DataFrame()\n",
    "    temp_features_df=pd.DataFrame()\n",
    "    team_list =[]\n",
    "    temp_clean_hist = clean_hist[clean_hist['Year']==year]\n",
    "    temp_features_df = x[x['Year']==year]\n",
    "    team_list = temp_clean_hist[['Team 1', 'Team 2']].to_numpy().flatten()\n",
    "    team_list = np.unique(team_list)\n",
    "    for item in team_list:\n",
    "        if item not in temp_features_df['Team'].values:\n",
    "            unknown_teams.append(item)\n",
    "unknown_teams=np.unique(unknown_teams)\n",
    "print(unknown_teams)\n",
    "\n"
   ]
  },
  {
   "cell_type": "code",
   "execution_count": null,
   "metadata": {},
   "outputs": [],
   "source": []
  }
 ],
 "metadata": {
  "kernelspec": {
   "display_name": "tf-gpu",
   "language": "python",
   "name": "python3"
  },
  "language_info": {
   "codemirror_mode": {
    "name": "ipython",
    "version": 3
   },
   "file_extension": ".py",
   "mimetype": "text/x-python",
   "name": "python",
   "nbconvert_exporter": "python",
   "pygments_lexer": "ipython3",
   "version": "3.10.2"
  },
  "orig_nbformat": 4,
  "vscode": {
   "interpreter": {
    "hash": "8b6c374883f9df3672c6e08bb312b10e7bb23d17887b1602821301eeaa63f196"
   }
  }
 },
 "nbformat": 4,
 "nbformat_minor": 2
}
