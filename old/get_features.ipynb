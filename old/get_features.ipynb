{
 "cells": [
  {
   "cell_type": "code",
   "execution_count": 35,
   "metadata": {},
   "outputs": [],
   "source": [
    "import pandas as pd\n",
    "import numpy as np\n",
    "from bs4 import BeautifulSoup as soup\n",
    "from urllib.request import Request, urlopen\n",
    "from sklearn import preprocessing\n",
    "from sklearn.model_selection import train_test_split\n",
    "import re\n",
    "import time\n",
    "import asyncio\n",
    "from io import StringIO"
   ]
  },
  {
   "cell_type": "code",
   "execution_count": 36,
   "metadata": {},
   "outputs": [
    {
     "name": "stdout",
     "output_type": "stream",
     "text": [
      "[2007, 2008, 2009, 2010, 2011, 2012, 2013, 2014, 2015, 2016, 2017, 2018, 2019, 2021, 2022, 2023, 2024, 2025]\n"
     ]
    }
   ],
   "source": [
    "START_YEAR = 2007\n",
    "END_YEAR=2025\n",
    "LOOKBACK_PERIOD = range(START_YEAR, END_YEAR+1)\n",
    "LOOKBACK_PERIOD=list(LOOKBACK_PERIOD)\n",
    "if 2020 in LOOKBACK_PERIOD:\n",
    "    LOOKBACK_PERIOD.remove(2020)\n",
    "print(LOOKBACK_PERIOD)"
   ]
  },
  {
   "cell_type": "code",
   "execution_count": 37,
   "metadata": {},
   "outputs": [],
   "source": [
    "base = \"https://www.teamrankings.com/ncaa-basketball/\"\n",
    "features = {\"Last 10 Rating\":\"ranking/last-10-games-by-other\",\n",
    "            \"Strength of Schedule\":\"ranking/schedule-strength-by-other\",\n",
    "#             \"Offensive Efficiency\":\"stat/offensive-efficiency\",\n",
    "#             \"Floor %\":\"stat/floor-percentage\", \n",
    "            \"Shooting %\":\"stat/shooting-pct\",\n",
    "            \"Effective Field Goal %\":\"stat/effective-field-goal-pct\",\n",
    "            \"Three Point %\":\"stat/three-point-pct\",\n",
    "            \"Two Point %\":\"stat/two-point-pct\",\n",
    "            \"Free Throw %\":\"stat/free-throw-pct\",\n",
    "            \"FT Attempted per FG Attempted\": \"stat/fta-per-fga\",\n",
    "            \"Turnovers Per Possession\":\"stat/turnovers-per-possession\",\n",
    "            \"True Shooting %\":\"stat/true-shooting-percentage\",\n",
    "            \"Offensive Rebounding %\":\"stat/offensive-rebounding-pct\",\n",
    "            \"Defensive Rebounding %\":\"stat/defensive-rebounding-pct\",\n",
    "            \"Total Rebounding %\":\"stat/total-rebounding-percentage\",\n",
    "            \"Block %\":\"stat/block-pct\", \n",
    "            \"Steal %\":\"stat/steal-pct\",\n",
    "            \"Assist/Turnover Ratio\":\"stat/assist--per--turnover-ratio\",\n",
    "            \"Defensive Efficiency\":\"stat/defensive-efficiency\",\n",
    "            \"Effective Possesion Ratio\":\"stat/effective-possession-ratio\",\n",
    "            \"Win %\":\"stat/win-pct-all-games\",\n",
    "            \"Win % Close Games\":\"stat/win-pct-close-games\",\n",
    "            \"Possessions Per Game\":\"stat/possessions-per-game\",\n",
    "            }\n"
   ]
  },
  {
   "cell_type": "code",
   "execution_count": 38,
   "metadata": {},
   "outputs": [],
   "source": [
    "def remove_scores(row):\n",
    "    x = re.sub(\"\\((\\d+\\-\\d+)\\)\", \"\", row)\n",
    "    x = x.rstrip()\n",
    "    return x"
   ]
  },
  {
   "cell_type": "code",
   "execution_count": 39,
   "metadata": {},
   "outputs": [],
   "source": [
    "def normalize(df, range):\n",
    "    min_max_scaler=preprocessing.MinMaxScaler(feature_range=range)\n",
    "    df = min_max_scaler.fit_transform(df.values)\n",
    "    return df"
   ]
  },
  {
   "cell_type": "code",
   "execution_count": 40,
   "metadata": {},
   "outputs": [],
   "source": [
    "def get_stats(years):\n",
    "    full_data = pd.DataFrame()\n",
    "\n",
    "    for i in years:\n",
    "        print(\"Entering Year: \", i)\n",
    "        stats=pd.DataFrame()\n",
    "        suffix = \"?date={}-03-01\".format(i)\n",
    "        for key, value in features.items():\n",
    "            table=pd.DataFrame()\n",
    "            url = base+value+suffix\n",
    "            # print('Heading to url: ', url)\n",
    "            req = Request(url, headers={'User-Agent': 'Mozilla/5.0'})\n",
    "            webpage = urlopen(req).read()\n",
    "            html = soup(webpage, \"html.parser\")\n",
    "            table = pd.read_html(StringIO(str(html)))\n",
    "            table = table[0].iloc[:, 1:3]\n",
    "            table = table.set_axis([\"Team\", key], axis=1)\n",
    "            if table[key].dtype!='float64':\n",
    "                table[key] = table[key].replace('--', np.nan)\n",
    "                table[key] = table[key].str.rstrip('%').astype(np.float64)\n",
    "            if key=='Last 10 Rating' or key=='Strength of Schedule':\n",
    "                table['Team'] = table['Team'].apply(remove_scores)\n",
    "            if key!='Team' or key!='Year':    \n",
    "                table[key] = normalize(table[[key]], range=(0, 1))\n",
    "                # print(table)\n",
    "                # table[key] = table[key]*table['Strength of Schedule']*table['Last 10 Rating']\n",
    "                # print(table)\n",
    "            if key=='Defensive Efficiency':\n",
    "                table[key]=table[key]*-1\n",
    "            # table=table.drop(['Last 10 Rating', 'Strength of Schedule'], axis=1)\n",
    "            if len(stats)==0:\n",
    "                stats = table\n",
    "            else:\n",
    "                # print(\"entered else statement\")\n",
    "                stats = stats.merge(table, how='inner', on='Team')\n",
    "        stats['Year'] = i\n",
    "        full_data = pd.concat([full_data, stats], ignore_index=True)\n",
    "    return full_data"
   ]
  },
  {
   "cell_type": "code",
   "execution_count": 41,
   "metadata": {},
   "outputs": [
    {
     "name": "stdout",
     "output_type": "stream",
     "text": [
      "Entering Year:  2007\n",
      "Entering Year:  2008\n",
      "Entering Year:  2009\n",
      "Entering Year:  2010\n",
      "Entering Year:  2011\n",
      "Entering Year:  2012\n",
      "Entering Year:  2013\n",
      "Entering Year:  2014\n",
      "Entering Year:  2015\n",
      "Entering Year:  2016\n",
      "Entering Year:  2017\n",
      "Entering Year:  2018\n",
      "Entering Year:  2019\n",
      "Entering Year:  2021\n",
      "Entering Year:  2022\n",
      "Entering Year:  2023\n",
      "Entering Year:  2024\n",
      "Entering Year:  2025\n"
     ]
    }
   ],
   "source": [
    "\n",
    "x = get_stats(LOOKBACK_PERIOD)\n",
    "\n",
    "# key_list = ['Year', 'Team']\n",
    "# drop_list = [w for w in x.columns if w not in key_list]\n",
    "# print(x[drop_list])\n",
    "# test = x[drop_list].multiply(x['Strength of Schedule'], axis=0).multiply(x['Last 10 Rating'], axis=0)\n",
    "# test[key_list] = x[key_list]\n",
    "# test = test.drop(['Strength of Schedule', 'Last 10 Rating'], axis=1)\n",
    "# first_column = test.pop('Team')\n",
    "  \n",
    "# insert column using insert(position,column_name,first_column) function\n",
    "# print(test)\n",
    "# test.insert(0, 'Team', first_column)\n",
    "# print(test)"
   ]
  },
  {
   "cell_type": "code",
   "execution_count": 42,
   "metadata": {},
   "outputs": [
    {
     "name": "stdout",
     "output_type": "stream",
     "text": [
      "                Team  Last 10 Rating  Strength of Schedule  Shooting %  \\\n",
      "0            Florida        1.000000              0.931298    1.000000   \n",
      "1     North Carolina        0.941767              1.000000    0.875000   \n",
      "2            Arizona        0.887550              0.912214    0.778409   \n",
      "3            Ohio St        0.881526              0.908397    0.727273   \n",
      "4               Duke        0.875502              0.946565    0.687500   \n",
      "...              ...             ...                   ...         ...   \n",
      "6301       Coppin St        0.224000              0.270968    0.068702   \n",
      "6302     Maryland ES        0.220800              0.167742    0.167939   \n",
      "6303    Prairie View        0.193600              0.209677    0.450382   \n",
      "6304   AR-Pine Bluff        0.192000              0.109677    0.511450   \n",
      "6305  Miss Valley St        0.000000              0.000000    0.000000   \n",
      "\n",
      "      Effective Field Goal %  Three Point %  Two Point %  Free Throw %  \\\n",
      "0                   1.000000       0.854651     0.947619      0.558685   \n",
      "1                   0.783784       0.627907     0.804762      0.652582   \n",
      "2                   0.718919       0.534884     0.766667      0.845070   \n",
      "3                   0.772973       0.645349     0.771429      0.619718   \n",
      "4                   0.659459       0.744186     0.590476      0.600939   \n",
      "...                      ...            ...          ...           ...   \n",
      "6301                0.080460       0.085106     0.100503      0.351464   \n",
      "6302                0.201149       0.184397     0.216080      0.271967   \n",
      "6303                0.419540       0.390071     0.381910      0.464435   \n",
      "6304                0.482759       0.241135     0.572864      0.000000   \n",
      "6305                0.000000       0.014184     0.035176      0.305439   \n",
      "\n",
      "      FT Attempted per FG Attempted  Turnovers Per Possession  ...  \\\n",
      "0                          0.507837                  0.418605  ...   \n",
      "1                          0.470219                  0.279070  ...   \n",
      "2                          0.579937                  0.333333  ...   \n",
      "3                          0.351097                  0.255814  ...   \n",
      "4                          0.510972                  0.581395  ...   \n",
      "...                             ...                       ...  ...   \n",
      "6301                       0.597015                  0.712000  ...   \n",
      "6302                       0.544776                  0.552000  ...   \n",
      "6303                       0.458955                  0.328000  ...   \n",
      "6304                       0.399254                  0.632000  ...   \n",
      "6305                       0.343284                  0.952000  ...   \n",
      "\n",
      "      Total Rebounding %   Block %   Steal %  Assist/Turnover Ratio  \\\n",
      "0               0.947020  0.541353  0.488095               0.655945   \n",
      "1               0.927152  0.466165  0.571429               0.849903   \n",
      "2               0.854305  0.240602  0.285714               0.690058   \n",
      "3               0.735099  0.646617  0.440476               0.802144   \n",
      "4               0.860927  0.556391  0.571429               0.391813   \n",
      "...                  ...       ...       ...                    ...   \n",
      "6301            0.248408  0.041667  0.643678               0.144116   \n",
      "6302            0.197452  0.104167  0.264368               0.149150   \n",
      "6303            0.000000  0.302083  0.643678               0.331026   \n",
      "6304            0.235669  0.104167  0.459770               0.259283   \n",
      "6305            0.044586  0.041667  0.367816               0.000000   \n",
      "\n",
      "      Defensive Efficiency  Effective Possesion Ratio     Win %  \\\n",
      "0                -0.190635                   0.583333  0.895388   \n",
      "1                -0.157191                   0.800000  0.889764   \n",
      "2                -0.612040                   0.700000  0.708661   \n",
      "3                -0.217391                   0.733333  0.967379   \n",
      "4                -0.147157                   0.477778  0.782902   \n",
      "...                    ...                        ...       ...   \n",
      "6301             -0.625000                   0.261307  0.135955   \n",
      "6302             -0.819767                   0.386935  0.005618   \n",
      "6303             -0.715116                   0.422111  0.122472   \n",
      "6304             -0.843023                   0.301508  0.085393   \n",
      "6305             -1.000000                   0.000000  0.000000   \n",
      "\n",
      "      Win % Close Games  Possessions Per Game  Year  \n",
      "0                 0.600              0.346354  2007  \n",
      "1                 0.250              0.544271  2007  \n",
      "2                 0.286              0.408854  2007  \n",
      "3                 0.800              0.304688  2007  \n",
      "4                 0.500              0.322917  2007  \n",
      "...                 ...                   ...   ...  \n",
      "6301              1.000              0.512346  2025  \n",
      "6302              0.000              0.450617  2025  \n",
      "6303              0.000              0.691358  2025  \n",
      "6304              0.250              0.790123  2025  \n",
      "6305              1.000              0.358025  2025  \n",
      "\n",
      "[6306 rows x 23 columns]\n"
     ]
    }
   ],
   "source": [
    "print(x)"
   ]
  },
  {
   "cell_type": "code",
   "execution_count": 43,
   "metadata": {},
   "outputs": [],
   "source": [
    "# norm_features = [\"Floor %\",\"Shooting %\", \"Effective Field Goal %\", \"Three Point %\", \"Two Point %\", \"Free Throw %\", \"True Shooting %\", \"Offensive Rebounding %\",\"Defensive Rebounding %\",\"Total Rebounding %\", \"Block %\"]\n",
    "\n",
    "# for item in norm_features:\n",
    "#     x[item] = x[item] / 100"
   ]
  },
  {
   "cell_type": "code",
   "execution_count": 44,
   "metadata": {},
   "outputs": [],
   "source": [
    "# x[\"Net Efficiency Margin\"] = x[\"Offensive Efficiency\"] - x[\"Defensive Efficiency\"]"
   ]
  },
  {
   "cell_type": "code",
   "execution_count": 45,
   "metadata": {},
   "outputs": [],
   "source": [
    "x.to_csv(\"../data/{}-{}_MBB_Historical-Data.csv\".format(START_YEAR, END_YEAR))"
   ]
  },
  {
   "cell_type": "code",
   "execution_count": 46,
   "metadata": {},
   "outputs": [
    {
     "name": "stdout",
     "output_type": "stream",
     "text": [
      "                Team  Last 10 Rating  Strength of Schedule  Shooting %  \\\n",
      "0            Florida        1.000000              0.931298    1.000000   \n",
      "1     North Carolina        0.941767              1.000000    0.875000   \n",
      "2            Arizona        0.887550              0.912214    0.778409   \n",
      "3            Ohio St        0.881526              0.908397    0.727273   \n",
      "4               Duke        0.875502              0.946565    0.687500   \n",
      "...              ...             ...                   ...         ...   \n",
      "6301       Coppin St        0.224000              0.270968    0.068702   \n",
      "6302     Maryland ES        0.220800              0.167742    0.167939   \n",
      "6303    Prairie View        0.193600              0.209677    0.450382   \n",
      "6304   AR-Pine Bluff        0.192000              0.109677    0.511450   \n",
      "6305  Miss Valley St        0.000000              0.000000    0.000000   \n",
      "\n",
      "      Effective Field Goal %  Three Point %  Two Point %  Free Throw %  \\\n",
      "0                   1.000000       0.854651     0.947619      0.558685   \n",
      "1                   0.783784       0.627907     0.804762      0.652582   \n",
      "2                   0.718919       0.534884     0.766667      0.845070   \n",
      "3                   0.772973       0.645349     0.771429      0.619718   \n",
      "4                   0.659459       0.744186     0.590476      0.600939   \n",
      "...                      ...            ...          ...           ...   \n",
      "6301                0.080460       0.085106     0.100503      0.351464   \n",
      "6302                0.201149       0.184397     0.216080      0.271967   \n",
      "6303                0.419540       0.390071     0.381910      0.464435   \n",
      "6304                0.482759       0.241135     0.572864      0.000000   \n",
      "6305                0.000000       0.014184     0.035176      0.305439   \n",
      "\n",
      "      FT Attempted per FG Attempted  Turnovers Per Possession  ...  \\\n",
      "0                          0.507837                  0.418605  ...   \n",
      "1                          0.470219                  0.279070  ...   \n",
      "2                          0.579937                  0.333333  ...   \n",
      "3                          0.351097                  0.255814  ...   \n",
      "4                          0.510972                  0.581395  ...   \n",
      "...                             ...                       ...  ...   \n",
      "6301                       0.597015                  0.712000  ...   \n",
      "6302                       0.544776                  0.552000  ...   \n",
      "6303                       0.458955                  0.328000  ...   \n",
      "6304                       0.399254                  0.632000  ...   \n",
      "6305                       0.343284                  0.952000  ...   \n",
      "\n",
      "      Total Rebounding %   Block %   Steal %  Assist/Turnover Ratio  \\\n",
      "0               0.947020  0.541353  0.488095               0.655945   \n",
      "1               0.927152  0.466165  0.571429               0.849903   \n",
      "2               0.854305  0.240602  0.285714               0.690058   \n",
      "3               0.735099  0.646617  0.440476               0.802144   \n",
      "4               0.860927  0.556391  0.571429               0.391813   \n",
      "...                  ...       ...       ...                    ...   \n",
      "6301            0.248408  0.041667  0.643678               0.144116   \n",
      "6302            0.197452  0.104167  0.264368               0.149150   \n",
      "6303            0.000000  0.302083  0.643678               0.331026   \n",
      "6304            0.235669  0.104167  0.459770               0.259283   \n",
      "6305            0.044586  0.041667  0.367816               0.000000   \n",
      "\n",
      "      Defensive Efficiency  Effective Possesion Ratio     Win %  \\\n",
      "0                -0.190635                   0.583333  0.895388   \n",
      "1                -0.157191                   0.800000  0.889764   \n",
      "2                -0.612040                   0.700000  0.708661   \n",
      "3                -0.217391                   0.733333  0.967379   \n",
      "4                -0.147157                   0.477778  0.782902   \n",
      "...                    ...                        ...       ...   \n",
      "6301             -0.625000                   0.261307  0.135955   \n",
      "6302             -0.819767                   0.386935  0.005618   \n",
      "6303             -0.715116                   0.422111  0.122472   \n",
      "6304             -0.843023                   0.301508  0.085393   \n",
      "6305             -1.000000                   0.000000  0.000000   \n",
      "\n",
      "      Win % Close Games  Possessions Per Game  Year  \n",
      "0                 0.600              0.346354  2007  \n",
      "1                 0.250              0.544271  2007  \n",
      "2                 0.286              0.408854  2007  \n",
      "3                 0.800              0.304688  2007  \n",
      "4                 0.500              0.322917  2007  \n",
      "...                 ...                   ...   ...  \n",
      "6301              1.000              0.512346  2025  \n",
      "6302              0.000              0.450617  2025  \n",
      "6303              0.000              0.691358  2025  \n",
      "6304              0.250              0.790123  2025  \n",
      "6305              1.000              0.358025  2025  \n",
      "\n",
      "[6306 rows x 23 columns]\n"
     ]
    }
   ],
   "source": [
    "print(x)"
   ]
  },
  {
   "cell_type": "code",
   "execution_count": 47,
   "metadata": {},
   "outputs": [
    {
     "ename": "FileNotFoundError",
     "evalue": "[Errno 2] No such file or directory: 'data/Bracket_Historical_Data.csv'",
     "output_type": "error",
     "traceback": [
      "\u001b[0;31m---------------------------------------------------------------------------\u001b[0m",
      "\u001b[0;31mFileNotFoundError\u001b[0m                         Traceback (most recent call last)",
      "Cell \u001b[0;32mIn[47], line 1\u001b[0m\n\u001b[0;32m----> 1\u001b[0m clean_hist \u001b[38;5;241m=\u001b[39m \u001b[43mpd\u001b[49m\u001b[38;5;241;43m.\u001b[39;49m\u001b[43mread_csv\u001b[49m\u001b[43m(\u001b[49m\u001b[38;5;124;43m'\u001b[39;49m\u001b[38;5;124;43mdata/Bracket_Historical_Data.csv\u001b[39;49m\u001b[38;5;124;43m'\u001b[39;49m\u001b[43m)\u001b[49m\n\u001b[1;32m      2\u001b[0m x \u001b[38;5;241m=\u001b[39m pd\u001b[38;5;241m.\u001b[39mread_csv(\u001b[38;5;124m'\u001b[39m\u001b[38;5;124mdata/2012-2025_MBB_Historical-Data.csv\u001b[39m\u001b[38;5;124m'\u001b[39m)\n\u001b[1;32m      4\u001b[0m unknown_teams\u001b[38;5;241m=\u001b[39m[]\n",
      "File \u001b[0;32m~/.local/share/virtualenvs/march-madness-z0O2oA0A/lib/python3.10/site-packages/pandas/io/parsers/readers.py:1026\u001b[0m, in \u001b[0;36mread_csv\u001b[0;34m(filepath_or_buffer, sep, delimiter, header, names, index_col, usecols, dtype, engine, converters, true_values, false_values, skipinitialspace, skiprows, skipfooter, nrows, na_values, keep_default_na, na_filter, verbose, skip_blank_lines, parse_dates, infer_datetime_format, keep_date_col, date_parser, date_format, dayfirst, cache_dates, iterator, chunksize, compression, thousands, decimal, lineterminator, quotechar, quoting, doublequote, escapechar, comment, encoding, encoding_errors, dialect, on_bad_lines, delim_whitespace, low_memory, memory_map, float_precision, storage_options, dtype_backend)\u001b[0m\n\u001b[1;32m   1013\u001b[0m kwds_defaults \u001b[38;5;241m=\u001b[39m _refine_defaults_read(\n\u001b[1;32m   1014\u001b[0m     dialect,\n\u001b[1;32m   1015\u001b[0m     delimiter,\n\u001b[0;32m   (...)\u001b[0m\n\u001b[1;32m   1022\u001b[0m     dtype_backend\u001b[38;5;241m=\u001b[39mdtype_backend,\n\u001b[1;32m   1023\u001b[0m )\n\u001b[1;32m   1024\u001b[0m kwds\u001b[38;5;241m.\u001b[39mupdate(kwds_defaults)\n\u001b[0;32m-> 1026\u001b[0m \u001b[38;5;28;01mreturn\u001b[39;00m \u001b[43m_read\u001b[49m\u001b[43m(\u001b[49m\u001b[43mfilepath_or_buffer\u001b[49m\u001b[43m,\u001b[49m\u001b[43m \u001b[49m\u001b[43mkwds\u001b[49m\u001b[43m)\u001b[49m\n",
      "File \u001b[0;32m~/.local/share/virtualenvs/march-madness-z0O2oA0A/lib/python3.10/site-packages/pandas/io/parsers/readers.py:620\u001b[0m, in \u001b[0;36m_read\u001b[0;34m(filepath_or_buffer, kwds)\u001b[0m\n\u001b[1;32m    617\u001b[0m _validate_names(kwds\u001b[38;5;241m.\u001b[39mget(\u001b[38;5;124m\"\u001b[39m\u001b[38;5;124mnames\u001b[39m\u001b[38;5;124m\"\u001b[39m, \u001b[38;5;28;01mNone\u001b[39;00m))\n\u001b[1;32m    619\u001b[0m \u001b[38;5;66;03m# Create the parser.\u001b[39;00m\n\u001b[0;32m--> 620\u001b[0m parser \u001b[38;5;241m=\u001b[39m \u001b[43mTextFileReader\u001b[49m\u001b[43m(\u001b[49m\u001b[43mfilepath_or_buffer\u001b[49m\u001b[43m,\u001b[49m\u001b[43m \u001b[49m\u001b[38;5;241;43m*\u001b[39;49m\u001b[38;5;241;43m*\u001b[39;49m\u001b[43mkwds\u001b[49m\u001b[43m)\u001b[49m\n\u001b[1;32m    622\u001b[0m \u001b[38;5;28;01mif\u001b[39;00m chunksize \u001b[38;5;129;01mor\u001b[39;00m iterator:\n\u001b[1;32m    623\u001b[0m     \u001b[38;5;28;01mreturn\u001b[39;00m parser\n",
      "File \u001b[0;32m~/.local/share/virtualenvs/march-madness-z0O2oA0A/lib/python3.10/site-packages/pandas/io/parsers/readers.py:1620\u001b[0m, in \u001b[0;36mTextFileReader.__init__\u001b[0;34m(self, f, engine, **kwds)\u001b[0m\n\u001b[1;32m   1617\u001b[0m     \u001b[38;5;28mself\u001b[39m\u001b[38;5;241m.\u001b[39moptions[\u001b[38;5;124m\"\u001b[39m\u001b[38;5;124mhas_index_names\u001b[39m\u001b[38;5;124m\"\u001b[39m] \u001b[38;5;241m=\u001b[39m kwds[\u001b[38;5;124m\"\u001b[39m\u001b[38;5;124mhas_index_names\u001b[39m\u001b[38;5;124m\"\u001b[39m]\n\u001b[1;32m   1619\u001b[0m \u001b[38;5;28mself\u001b[39m\u001b[38;5;241m.\u001b[39mhandles: IOHandles \u001b[38;5;241m|\u001b[39m \u001b[38;5;28;01mNone\u001b[39;00m \u001b[38;5;241m=\u001b[39m \u001b[38;5;28;01mNone\u001b[39;00m\n\u001b[0;32m-> 1620\u001b[0m \u001b[38;5;28mself\u001b[39m\u001b[38;5;241m.\u001b[39m_engine \u001b[38;5;241m=\u001b[39m \u001b[38;5;28;43mself\u001b[39;49m\u001b[38;5;241;43m.\u001b[39;49m\u001b[43m_make_engine\u001b[49m\u001b[43m(\u001b[49m\u001b[43mf\u001b[49m\u001b[43m,\u001b[49m\u001b[43m \u001b[49m\u001b[38;5;28;43mself\u001b[39;49m\u001b[38;5;241;43m.\u001b[39;49m\u001b[43mengine\u001b[49m\u001b[43m)\u001b[49m\n",
      "File \u001b[0;32m~/.local/share/virtualenvs/march-madness-z0O2oA0A/lib/python3.10/site-packages/pandas/io/parsers/readers.py:1880\u001b[0m, in \u001b[0;36mTextFileReader._make_engine\u001b[0;34m(self, f, engine)\u001b[0m\n\u001b[1;32m   1878\u001b[0m     \u001b[38;5;28;01mif\u001b[39;00m \u001b[38;5;124m\"\u001b[39m\u001b[38;5;124mb\u001b[39m\u001b[38;5;124m\"\u001b[39m \u001b[38;5;129;01mnot\u001b[39;00m \u001b[38;5;129;01min\u001b[39;00m mode:\n\u001b[1;32m   1879\u001b[0m         mode \u001b[38;5;241m+\u001b[39m\u001b[38;5;241m=\u001b[39m \u001b[38;5;124m\"\u001b[39m\u001b[38;5;124mb\u001b[39m\u001b[38;5;124m\"\u001b[39m\n\u001b[0;32m-> 1880\u001b[0m \u001b[38;5;28mself\u001b[39m\u001b[38;5;241m.\u001b[39mhandles \u001b[38;5;241m=\u001b[39m \u001b[43mget_handle\u001b[49m\u001b[43m(\u001b[49m\n\u001b[1;32m   1881\u001b[0m \u001b[43m    \u001b[49m\u001b[43mf\u001b[49m\u001b[43m,\u001b[49m\n\u001b[1;32m   1882\u001b[0m \u001b[43m    \u001b[49m\u001b[43mmode\u001b[49m\u001b[43m,\u001b[49m\n\u001b[1;32m   1883\u001b[0m \u001b[43m    \u001b[49m\u001b[43mencoding\u001b[49m\u001b[38;5;241;43m=\u001b[39;49m\u001b[38;5;28;43mself\u001b[39;49m\u001b[38;5;241;43m.\u001b[39;49m\u001b[43moptions\u001b[49m\u001b[38;5;241;43m.\u001b[39;49m\u001b[43mget\u001b[49m\u001b[43m(\u001b[49m\u001b[38;5;124;43m\"\u001b[39;49m\u001b[38;5;124;43mencoding\u001b[39;49m\u001b[38;5;124;43m\"\u001b[39;49m\u001b[43m,\u001b[49m\u001b[43m \u001b[49m\u001b[38;5;28;43;01mNone\u001b[39;49;00m\u001b[43m)\u001b[49m\u001b[43m,\u001b[49m\n\u001b[1;32m   1884\u001b[0m \u001b[43m    \u001b[49m\u001b[43mcompression\u001b[49m\u001b[38;5;241;43m=\u001b[39;49m\u001b[38;5;28;43mself\u001b[39;49m\u001b[38;5;241;43m.\u001b[39;49m\u001b[43moptions\u001b[49m\u001b[38;5;241;43m.\u001b[39;49m\u001b[43mget\u001b[49m\u001b[43m(\u001b[49m\u001b[38;5;124;43m\"\u001b[39;49m\u001b[38;5;124;43mcompression\u001b[39;49m\u001b[38;5;124;43m\"\u001b[39;49m\u001b[43m,\u001b[49m\u001b[43m \u001b[49m\u001b[38;5;28;43;01mNone\u001b[39;49;00m\u001b[43m)\u001b[49m\u001b[43m,\u001b[49m\n\u001b[1;32m   1885\u001b[0m \u001b[43m    \u001b[49m\u001b[43mmemory_map\u001b[49m\u001b[38;5;241;43m=\u001b[39;49m\u001b[38;5;28;43mself\u001b[39;49m\u001b[38;5;241;43m.\u001b[39;49m\u001b[43moptions\u001b[49m\u001b[38;5;241;43m.\u001b[39;49m\u001b[43mget\u001b[49m\u001b[43m(\u001b[49m\u001b[38;5;124;43m\"\u001b[39;49m\u001b[38;5;124;43mmemory_map\u001b[39;49m\u001b[38;5;124;43m\"\u001b[39;49m\u001b[43m,\u001b[49m\u001b[43m \u001b[49m\u001b[38;5;28;43;01mFalse\u001b[39;49;00m\u001b[43m)\u001b[49m\u001b[43m,\u001b[49m\n\u001b[1;32m   1886\u001b[0m \u001b[43m    \u001b[49m\u001b[43mis_text\u001b[49m\u001b[38;5;241;43m=\u001b[39;49m\u001b[43mis_text\u001b[49m\u001b[43m,\u001b[49m\n\u001b[1;32m   1887\u001b[0m \u001b[43m    \u001b[49m\u001b[43merrors\u001b[49m\u001b[38;5;241;43m=\u001b[39;49m\u001b[38;5;28;43mself\u001b[39;49m\u001b[38;5;241;43m.\u001b[39;49m\u001b[43moptions\u001b[49m\u001b[38;5;241;43m.\u001b[39;49m\u001b[43mget\u001b[49m\u001b[43m(\u001b[49m\u001b[38;5;124;43m\"\u001b[39;49m\u001b[38;5;124;43mencoding_errors\u001b[39;49m\u001b[38;5;124;43m\"\u001b[39;49m\u001b[43m,\u001b[49m\u001b[43m \u001b[49m\u001b[38;5;124;43m\"\u001b[39;49m\u001b[38;5;124;43mstrict\u001b[39;49m\u001b[38;5;124;43m\"\u001b[39;49m\u001b[43m)\u001b[49m\u001b[43m,\u001b[49m\n\u001b[1;32m   1888\u001b[0m \u001b[43m    \u001b[49m\u001b[43mstorage_options\u001b[49m\u001b[38;5;241;43m=\u001b[39;49m\u001b[38;5;28;43mself\u001b[39;49m\u001b[38;5;241;43m.\u001b[39;49m\u001b[43moptions\u001b[49m\u001b[38;5;241;43m.\u001b[39;49m\u001b[43mget\u001b[49m\u001b[43m(\u001b[49m\u001b[38;5;124;43m\"\u001b[39;49m\u001b[38;5;124;43mstorage_options\u001b[39;49m\u001b[38;5;124;43m\"\u001b[39;49m\u001b[43m,\u001b[49m\u001b[43m \u001b[49m\u001b[38;5;28;43;01mNone\u001b[39;49;00m\u001b[43m)\u001b[49m\u001b[43m,\u001b[49m\n\u001b[1;32m   1889\u001b[0m \u001b[43m\u001b[49m\u001b[43m)\u001b[49m\n\u001b[1;32m   1890\u001b[0m \u001b[38;5;28;01massert\u001b[39;00m \u001b[38;5;28mself\u001b[39m\u001b[38;5;241m.\u001b[39mhandles \u001b[38;5;129;01mis\u001b[39;00m \u001b[38;5;129;01mnot\u001b[39;00m \u001b[38;5;28;01mNone\u001b[39;00m\n\u001b[1;32m   1891\u001b[0m f \u001b[38;5;241m=\u001b[39m \u001b[38;5;28mself\u001b[39m\u001b[38;5;241m.\u001b[39mhandles\u001b[38;5;241m.\u001b[39mhandle\n",
      "File \u001b[0;32m~/.local/share/virtualenvs/march-madness-z0O2oA0A/lib/python3.10/site-packages/pandas/io/common.py:873\u001b[0m, in \u001b[0;36mget_handle\u001b[0;34m(path_or_buf, mode, encoding, compression, memory_map, is_text, errors, storage_options)\u001b[0m\n\u001b[1;32m    868\u001b[0m \u001b[38;5;28;01melif\u001b[39;00m \u001b[38;5;28misinstance\u001b[39m(handle, \u001b[38;5;28mstr\u001b[39m):\n\u001b[1;32m    869\u001b[0m     \u001b[38;5;66;03m# Check whether the filename is to be opened in binary mode.\u001b[39;00m\n\u001b[1;32m    870\u001b[0m     \u001b[38;5;66;03m# Binary mode does not support 'encoding' and 'newline'.\u001b[39;00m\n\u001b[1;32m    871\u001b[0m     \u001b[38;5;28;01mif\u001b[39;00m ioargs\u001b[38;5;241m.\u001b[39mencoding \u001b[38;5;129;01mand\u001b[39;00m \u001b[38;5;124m\"\u001b[39m\u001b[38;5;124mb\u001b[39m\u001b[38;5;124m\"\u001b[39m \u001b[38;5;129;01mnot\u001b[39;00m \u001b[38;5;129;01min\u001b[39;00m ioargs\u001b[38;5;241m.\u001b[39mmode:\n\u001b[1;32m    872\u001b[0m         \u001b[38;5;66;03m# Encoding\u001b[39;00m\n\u001b[0;32m--> 873\u001b[0m         handle \u001b[38;5;241m=\u001b[39m \u001b[38;5;28;43mopen\u001b[39;49m\u001b[43m(\u001b[49m\n\u001b[1;32m    874\u001b[0m \u001b[43m            \u001b[49m\u001b[43mhandle\u001b[49m\u001b[43m,\u001b[49m\n\u001b[1;32m    875\u001b[0m \u001b[43m            \u001b[49m\u001b[43mioargs\u001b[49m\u001b[38;5;241;43m.\u001b[39;49m\u001b[43mmode\u001b[49m\u001b[43m,\u001b[49m\n\u001b[1;32m    876\u001b[0m \u001b[43m            \u001b[49m\u001b[43mencoding\u001b[49m\u001b[38;5;241;43m=\u001b[39;49m\u001b[43mioargs\u001b[49m\u001b[38;5;241;43m.\u001b[39;49m\u001b[43mencoding\u001b[49m\u001b[43m,\u001b[49m\n\u001b[1;32m    877\u001b[0m \u001b[43m            \u001b[49m\u001b[43merrors\u001b[49m\u001b[38;5;241;43m=\u001b[39;49m\u001b[43merrors\u001b[49m\u001b[43m,\u001b[49m\n\u001b[1;32m    878\u001b[0m \u001b[43m            \u001b[49m\u001b[43mnewline\u001b[49m\u001b[38;5;241;43m=\u001b[39;49m\u001b[38;5;124;43m\"\u001b[39;49m\u001b[38;5;124;43m\"\u001b[39;49m\u001b[43m,\u001b[49m\n\u001b[1;32m    879\u001b[0m \u001b[43m        \u001b[49m\u001b[43m)\u001b[49m\n\u001b[1;32m    880\u001b[0m     \u001b[38;5;28;01melse\u001b[39;00m:\n\u001b[1;32m    881\u001b[0m         \u001b[38;5;66;03m# Binary mode\u001b[39;00m\n\u001b[1;32m    882\u001b[0m         handle \u001b[38;5;241m=\u001b[39m \u001b[38;5;28mopen\u001b[39m(handle, ioargs\u001b[38;5;241m.\u001b[39mmode)\n",
      "\u001b[0;31mFileNotFoundError\u001b[0m: [Errno 2] No such file or directory: 'data/Bracket_Historical_Data.csv'"
     ]
    }
   ],
   "source": [
    "clean_hist = pd.read_csv('data/Bracket_Historical_Data.csv')\n",
    "x = pd.read_csv('data/2012-2025_MBB_Historical-Data.csv')\n",
    "\n",
    "unknown_teams=[]\n",
    "for year in x['Year'].unique():\n",
    "    temp_clean_hist=pd.DataFrame()\n",
    "    temp_features_df=pd.DataFrame()\n",
    "    team_list =[]\n",
    "    temp_clean_hist = clean_hist[clean_hist['Year']==year]\n",
    "    temp_features_df = x[x['Year']==year]\n",
    "    team_list = temp_clean_hist[['Team 1', 'Team 2']].to_numpy().flatten()\n",
    "    team_list = np.unique(team_list)\n",
    "    for item in team_list:\n",
    "        if item not in temp_features_df['Team'].values:\n",
    "            unknown_teams.append(item)\n",
    "unknown_teams=np.unique(unknown_teams)\n",
    "print(unknown_teams)\n",
    "\n"
   ]
  },
  {
   "cell_type": "code",
   "execution_count": null,
   "metadata": {},
   "outputs": [],
   "source": []
  }
 ],
 "metadata": {
  "kernelspec": {
   "display_name": "march-madness-z0O2oA0A",
   "language": "python",
   "name": "python3"
  },
  "language_info": {
   "codemirror_mode": {
    "name": "ipython",
    "version": 3
   },
   "file_extension": ".py",
   "mimetype": "text/x-python",
   "name": "python",
   "nbconvert_exporter": "python",
   "pygments_lexer": "ipython3",
   "version": "3.10.12"
  },
  "orig_nbformat": 4
 },
 "nbformat": 4,
 "nbformat_minor": 2
}
